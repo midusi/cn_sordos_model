{
 "cells": [
  {
   "cell_type": "code",
   "execution_count": 1,
   "metadata": {},
   "outputs": [],
   "source": [
    "import matplotlib.pyplot as plt\n",
    "\n",
    "from data.LSA_Dataset import LSA_Dataset\n",
    "from data.transforms import get_frames_reduction_transform, get_roi_selector_transform, keypoint_format_transform"
   ]
  },
  {
   "cell_type": "code",
   "execution_count": 5,
   "metadata": {},
   "outputs": [],
   "source": [
    "root = '/mnt/data/datasets/cn_sordos_db/data/cuts'\n",
    "max_frames = 75\n",
    "\n",
    "dataset = LSA_Dataset(\n",
    "    root,\n",
    "    load_videos = False,\n",
    "    frame_transform = get_roi_selector_transform(128,128),\n",
    "    video_transform = get_frames_reduction_transform(max_frames),\n",
    "    keypoints_transform = get_frames_reduction_transform(max_frames),\n",
    "    keypoints_transform_each = keypoint_format_transform\n",
    "    )"
   ]
  },
  {
   "cell_type": "code",
   "execution_count": 6,
   "metadata": {},
   "outputs": [],
   "source": [
    "import random\n",
    "\n",
    "i = random.randint(0, dataset.__len__())\n",
    "sample = dataset.__getitem__(i)"
   ]
  },
  {
   "cell_type": "code",
   "execution_count": 7,
   "metadata": {},
   "outputs": [
    {
     "ename": "AttributeError",
     "evalue": "'list' object has no attribute 'tokens'",
     "output_type": "error",
     "traceback": [
      "\u001b[0;31m---------------------------------------------------------------------------\u001b[0m",
      "\u001b[0;31mAttributeError\u001b[0m                            Traceback (most recent call last)",
      "\u001b[1;32m/home/pdalbianco/cn_sordos_model/test.ipynb Cell 4'\u001b[0m in \u001b[0;36m<cell line: 1>\u001b[0;34m()\u001b[0m\n\u001b[0;32m----> <a href='vscode-notebook-cell://ssh-remote%2B192.168.0.62/home/pdalbianco/cn_sordos_model/test.ipynb#ch0000003vscode-remote?line=0'>1</a>\u001b[0m \u001b[39mprint\u001b[39m(sample[\u001b[39m3\u001b[39;49m]\u001b[39m.\u001b[39;49mtokens)\n\u001b[1;32m      <a href='vscode-notebook-cell://ssh-remote%2B192.168.0.62/home/pdalbianco/cn_sordos_model/test.ipynb#ch0000003vscode-remote?line=1'>2</a>\u001b[0m clip \u001b[39m=\u001b[39m sample[\u001b[39m1\u001b[39m]\n\u001b[1;32m      <a href='vscode-notebook-cell://ssh-remote%2B192.168.0.62/home/pdalbianco/cn_sordos_model/test.ipynb#ch0000003vscode-remote?line=2'>3</a>\u001b[0m \u001b[39mprint\u001b[39m(\u001b[39m\"\u001b[39m\u001b[39m[F, C, H, W]\u001b[39m\u001b[39m\"\u001b[39m, clip\u001b[39m.\u001b[39msize())\n",
      "\u001b[0;31mAttributeError\u001b[0m: 'list' object has no attribute 'tokens'"
     ]
    }
   ],
   "source": [
    "print(sample[3])\n",
    "clip = sample[1]\n",
    "print(\"[F, C, H, W]\", clip.size())\n",
    "plt.figure(figsize=(12, 12))\n",
    "for i in range(20):\n",
    "    plt.subplot(5, 5, i + 1)\n",
    "    iclip = clip[i, ...].permute(1,2,0)\n",
    "    plt.imshow(iclip)\n",
    "    plt.axis(\"off\")"
   ]
  },
  {
   "cell_type": "code",
   "execution_count": 10,
   "metadata": {},
   "outputs": [],
   "source": [
    "keys = list(sample[2])"
   ]
  },
  {
   "cell_type": "code",
   "execution_count": 11,
   "metadata": {},
   "outputs": [
    {
     "name": "stdout",
     "output_type": "stream",
     "text": [
      "['la', 'otra', 'asociación', 'fue', 'la', 'de', 'quilmes', ',', '33', 'años', '.']\n",
      "75\n",
      "torch.Size([3, 42])\n",
      "torch.Size([75, 3, 42])\n"
     ]
    }
   ],
   "source": [
    "from torch import stack\n",
    "\n",
    "print(sample[3])\n",
    "\n",
    "print(len(keys))\n",
    "print(keys[0].size())\n",
    "\n",
    "vid_keys = stack(keys)\n",
    "print(vid_keys.size())\n"
   ]
  },
  {
   "cell_type": "code",
   "execution_count": 19,
   "metadata": {},
   "outputs": [],
   "source": [
    "from typing import List\n",
    "from torch import Tensor, nn, stack\n",
    "from torch.nn.functional import relu\n",
    "import torch\n",
    "\n",
    "from model.PositionalEncoding import PositionalEncoding\n",
    "\n",
    "\n",
    "class KeypointModel(nn.Module):\n",
    "\n",
    "    def __init__(self, inp_max_len: int, tgt_max_len: int):\n",
    "        super(KeypointModel, self).__init__()\n",
    "\n",
    "        # in_features is the result of flattening the input of (x,y,c).(k1, ..., k42)\n",
    "        self.fc = nn.Linear(in_features=126, out_features=64)\n",
    "        kernel_size = 5\n",
    "        self.conv1d = nn.Conv1d(in_channels=64, out_channels=32, kernel_size=kernel_size)\n",
    "        self.pe = PositionalEncoding(d_model=32, max_len=(inp_max_len - kernel_size + 1))\n",
    "        self.transformer = nn.Transformer()\n",
    "        \n",
    "\n",
    "    def forward(self, inp: List[Tensor], tgt: Tensor):\n",
    "        # flatten and apply fc frame by frame, then stack the frames and permute dims for conv\n",
    "        x = stack([relu(self.fc(torch.flatten(frame))) for frame in inp]).permute(1,0)\n",
    "        # unsqueeze adds dimention representing the batch CHEQUEAR\n",
    "        x = self.conv1d(x.unsqueeze(0))[0].permute(1,0)\n",
    "        # unsqueeze adds dimention representing the batch CHEQUEAR\n",
    "        x = x.unsqueeze(1)\n",
    "        x = self.pe(x)\n",
    "        #x = self.transformer(x)\n",
    "\n",
    "        return x"
   ]
  },
  {
   "cell_type": "code",
   "execution_count": 21,
   "metadata": {},
   "outputs": [
    {
     "name": "stdout",
     "output_type": "stream",
     "text": [
      "torch.Size([71, 1, 32])\n"
     ]
    }
   ],
   "source": [
    "\n",
    "model = KeypointModel(75,5)\n",
    "print(model(vid_keys, None).size())"
   ]
  },
  {
   "cell_type": "code",
   "execution_count": null,
   "metadata": {},
   "outputs": [
    {
     "name": "stdout",
     "output_type": "stream",
     "text": [
      "torch.Size([5])\n",
      "torch.Size([1, 5])\n"
     ]
    }
   ],
   "source": [
    "print(torch.arange(5).size())\n",
    "print(torch.arange(5).unsqueeze(0).size())"
   ]
  },
  {
   "cell_type": "code",
   "execution_count": null,
   "metadata": {},
   "outputs": [
    {
     "ename": "NameError",
     "evalue": "name 'DataLoader' is not defined",
     "output_type": "error",
     "traceback": [
      "\u001b[0;31m---------------------------------------------------------------------------\u001b[0m",
      "\u001b[0;31mNameError\u001b[0m                                 Traceback (most recent call last)",
      "\u001b[1;32m/home/pdalbianco/cn_sordos_model/test.ipynb Cell 8'\u001b[0m in \u001b[0;36m<cell line: 1>\u001b[0;34m()\u001b[0m\n\u001b[0;32m----> <a href='vscode-notebook-cell://ssh-remote%2B192.168.0.62/home/pdalbianco/cn_sordos_model/test.ipynb#ch0000005vscode-remote?line=0'>1</a>\u001b[0m loader \u001b[39m=\u001b[39m DataLoader(dataset, batch_size\u001b[39m=\u001b[39m\u001b[39m12\u001b[39m)\n\u001b[1;32m      <a href='vscode-notebook-cell://ssh-remote%2B192.168.0.62/home/pdalbianco/cn_sordos_model/test.ipynb#ch0000005vscode-remote?line=1'>2</a>\u001b[0m data: Dict[\u001b[39mstr\u001b[39m, Any] \u001b[39m=\u001b[39m {\u001b[39m'\u001b[39m\u001b[39mpath\u001b[39m\u001b[39m'\u001b[39m: [], \u001b[39m'\u001b[39m\u001b[39mclip\u001b[39m\u001b[39m'\u001b[39m: [], \u001b[39m'\u001b[39m\u001b[39mkeypoints\u001b[39m\u001b[39m'\u001b[39m: [], \u001b[39m'\u001b[39m\u001b[39mlabel\u001b[39m\u001b[39m'\u001b[39m: []}\n\u001b[1;32m      <a href='vscode-notebook-cell://ssh-remote%2B192.168.0.62/home/pdalbianco/cn_sordos_model/test.ipynb#ch0000005vscode-remote?line=2'>3</a>\u001b[0m \u001b[39mfor\u001b[39;00m batch \u001b[39min\u001b[39;00m loader:\n",
      "\u001b[0;31mNameError\u001b[0m: name 'DataLoader' is not defined"
     ]
    }
   ],
   "source": [
    "loader = DataLoader(dataset, batch_size=12)\n",
    "data: Dict[str, Any] = {'path': [], 'clip': [], 'keypoints': [], 'label': []}\n",
    "for batch in loader:\n",
    "    for i in range(len(batch['path'])):\n",
    "        data['path'].append(batch['path'][i])\n",
    "        data['clip'].append(batch['clip'][i].size())\n",
    "        #data['keypoints'].append(batch['end'][i])\n",
    "        data['label'].append(batch['label'][i])\n",
    "print(data)"
   ]
  }
 ],
 "metadata": {
  "interpreter": {
   "hash": "c39aee66d4694ab6179e36ecdc8652752b93bf45b611fd43c1db6ceb5e4ba9d5"
  },
  "kernelspec": {
   "display_name": "Python 3.9.11 ('model')",
   "language": "python",
   "name": "python3"
  },
  "language_info": {
   "codemirror_mode": {
    "name": "ipython",
    "version": 3
   },
   "file_extension": ".py",
   "mimetype": "text/x-python",
   "name": "python",
   "nbconvert_exporter": "python",
   "pygments_lexer": "ipython3",
   "version": "3.9.12"
  },
  "orig_nbformat": 4
 },
 "nbformat": 4,
 "nbformat_minor": 2
}
